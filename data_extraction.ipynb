{
  "cells": [
    {
      "cell_type": "markdown",
      "metadata": {
        "id": "view-in-github",
        "colab_type": "text"
      },
      "source": [
        "<a href=\"https://colab.research.google.com/github/Karthick47v2/question-generator/blob/main/data_extraction.ipynb\" target=\"_parent\"><img src=\"https://colab.research.google.com/assets/colab-badge.svg\" alt=\"Open In Colab\"/></a>"
      ]
    },
    {
      "cell_type": "markdown",
      "metadata": {
        "id": "DwJQYWpw0bKh"
      },
      "source": [
        "### Download dataset"
      ]
    },
    {
      "cell_type": "code",
      "execution_count": null,
      "metadata": {
        "id": "fB30UaQqzMvZ"
      },
      "outputs": [],
      "source": [
        "# SQuAD dataset\n",
        "!wget https://data.deepai.org/squad1.1.zip\n",
        "!unzip squad1.1.zip\n",
        "\n",
        "# SciQ dataset\n",
        "!wget https://ai2-public-datasets.s3.amazonaws.com/sciq/SciQ.zip\n",
        "!unzip SciQ.zip"
      ]
    },
    {
      "cell_type": "markdown",
      "metadata": {
        "id": "T9r7FuwB0bKk"
      },
      "source": [
        "### Import libraries"
      ]
    },
    {
      "cell_type": "code",
      "execution_count": 2,
      "metadata": {
        "id": "dnArgwcUzUso"
      },
      "outputs": [],
      "source": [
        "import json\n",
        "import pandas as pd"
      ]
    },
    {
      "cell_type": "markdown",
      "metadata": {
        "id": "bzJ_kkvj0bKl"
      },
      "source": [
        "### Extract data from json"
      ]
    },
    {
      "cell_type": "code",
      "source": [
        "def parse_json(filepath):\n",
        "  \"\"\"Load json file from storage.\n",
        "\n",
        "  Args:\n",
        "    filepath (str): Path of json file.\n",
        "\n",
        "  Returns:\n",
        "    list(dict(obj)): List of nested dictionaries.\n",
        "  \"\"\"\n",
        "  data = {}\n",
        "\n",
        "  with open(filepath) as file:\n",
        "    data = json.load(file)\n",
        "\n",
        "  return data"
      ],
      "metadata": {
        "id": "JTy8CLImDnr5"
      },
      "execution_count": 3,
      "outputs": []
    },
    {
      "cell_type": "markdown",
      "source": [
        "***SQuAD***\n",
        "\n",
        "- SQuAD dataset doesn't contain null values, so, no need to check.\n",
        "- We are only interested in generating questions from simple answers. So answers with more than 5 words will be filtered out."
      ],
      "metadata": {
        "id": "mftNffwYGEVB"
      }
    },
    {
      "cell_type": "code",
      "source": [
        "def extract_from_squad(data):\n",
        "  \"\"\"Extract data from SQuAD dataset.\n",
        "\n",
        "  Args:\n",
        "    data (list(dict(obj))): List of nested dictionaries.\n",
        "\n",
        "  Returns:\n",
        "    tuple(list(str), list(str)): tuple of lists of model input and output. \n",
        "  \"\"\"\n",
        "  source = []\n",
        "  target = []\n",
        "\n",
        "  for topic in data['data']:\n",
        "    for dict_set in topic['paragraphs']:\n",
        "      for qna_set in dict_set['qas']:\n",
        "        if len(qna_set['answers'][0]['text'].split()) <= 5:\n",
        "          source.append(f\"context: {dict_set['context']} answer: {qna_set['answers'][0]['text']}\")\n",
        "          target.append(qna_set['question'])\n",
        "\n",
        "  return source, target"
      ],
      "metadata": {
        "id": "VSbdKr83F7pg"
      },
      "execution_count": 4,
      "outputs": []
    },
    {
      "cell_type": "markdown",
      "source": [
        "***SciQ***\n",
        "\n",
        "- SCiQ dataset contains empty string for some values of `support` (mentioned in dataset readme.txt). So, that will be filtered out.\n",
        "- We are only interested in generating questions from simple answers. So answers with more than 5 words will be filtered out."
      ],
      "metadata": {
        "id": "L4p9xtIdGhxg"
      }
    },
    {
      "cell_type": "code",
      "source": [
        "def extract_from_sciq(data):\n",
        "  \"\"\"Extract data from SciQ dataset.\n",
        "\n",
        "  Args:\n",
        "    data (list(dict(obj))): List of nested dictionaries.\n",
        "\n",
        "  Returns:\n",
        "    tuple(list(str), list(str)): tuple of lists of model input and output. \n",
        "  \"\"\"\n",
        "  source = []\n",
        "  target = []\n",
        "\n",
        "  for dict_set in data:\n",
        "    if dict_set['support'] == \"\":\n",
        "      continue\n",
        "    if len(dict_set['correct_answer']) <= 5:\n",
        "      continue\n",
        "    else:\n",
        "      source.append(f\"context: {dict_set['support']} answer: {dict_set['correct_answer']}\")\n",
        "      target.append(dict_set['question'])\n",
        "\n",
        "  return source, target"
      ],
      "metadata": {
        "id": "HHpiOQSKC9bK"
      },
      "execution_count": 5,
      "outputs": []
    },
    {
      "cell_type": "code",
      "source": [
        "source_text = []\n",
        "target_text = []\n",
        "\n",
        "dataset = 'sciq' # squad or sciq\n",
        "\n",
        "if dataset == 'squad':\n",
        "  data = parse_json('train-v1.1.json')\n",
        "  source_text, target_text = extract_from_squad(data)\n",
        "\n",
        "else:\n",
        "  for filename in ['train', 'test', 'valid']:\n",
        "    data = parse_json(f\"SciQ dataset-2 3/{filename}.json\")\n",
        "    source, target = extract_from_sciq(data)\n",
        "\n",
        "    source_text.extend(source)\n",
        "    target_text.extend(target)"
      ],
      "metadata": {
        "id": "-fJV1XwFKrPg"
      },
      "execution_count": 6,
      "outputs": []
    },
    {
      "cell_type": "markdown",
      "source": [
        "***SQuAD***\n",
        "- Total data: 87,599\n",
        "- Filtered data: 76,135\n",
        "\n",
        "\n",
        "***SciQ***\n",
        "- Totla data: 13,679\n",
        "- Filtered data: 10,640"
      ],
      "metadata": {
        "id": "gRVEcDRVOyYb"
      }
    },
    {
      "cell_type": "code",
      "execution_count": 7,
      "metadata": {
        "id": "SCoVslog_T6l"
      },
      "outputs": [],
      "source": [
        "df = pd.DataFrame({'source_text': source_text, 'target_text': target_text})"
      ]
    },
    {
      "cell_type": "markdown",
      "metadata": {
        "id": "6Gc38WUx0bKp"
      },
      "source": [
        "### Review"
      ]
    },
    {
      "cell_type": "code",
      "execution_count": null,
      "metadata": {
        "id": "g_4zfHZx2O57"
      },
      "outputs": [],
      "source": [
        "df.head()"
      ]
    },
    {
      "cell_type": "markdown",
      "metadata": {
        "id": "IyKaYJnF0bKr"
      },
      "source": [
        "### Export as *.csv and upload to GDrive"
      ]
    },
    {
      "cell_type": "code",
      "execution_count": null,
      "metadata": {
        "id": "F7g2Ab4aC9HT"
      },
      "outputs": [],
      "source": [
        "from google.colab import drive\n",
        "drive.mount('/content/gdrive')"
      ]
    },
    {
      "cell_type": "code",
      "execution_count": 10,
      "metadata": {
        "id": "bMnlCw4DEXMA"
      },
      "outputs": [],
      "source": [
        "output = f\"{'SQuAD' if dataset == 'squad' else 'SciQ'}-processed.csv\"\n",
        "\n",
        "df.to_csv(output, index=False)\n",
        "!mv $output gdrive/MyDrive/mcq-gen"
      ]
    }
  ],
  "metadata": {
    "colab": {
      "name": "squad-data-extraction.ipynb",
      "provenance": [],
      "include_colab_link": true
    },
    "kernelspec": {
      "display_name": "Python 3",
      "name": "python3"
    },
    "language_info": {
      "name": "python"
    }
  },
  "nbformat": 4,
  "nbformat_minor": 0
}