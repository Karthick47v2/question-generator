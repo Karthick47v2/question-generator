{
  "cells": [
    {
      "cell_type": "markdown",
      "metadata": {},
      "source": [
        "### Install 3rd party libraries\n",
        "\n",
        "\n",
        "- SimpleT5 simplifies training pipeline of T5 transformers\n",
        "- FastT5 convert PyTorch model to ONNX (also to Quantized ONNX)  "
      ]
    },
    {
      "cell_type": "code",
      "execution_count": null,
      "metadata": {
        "id": "Wp4gnEtxFNrj"
      },
      "outputs": [],
      "source": [
        "!pip install --upgrade simplet5\n",
        "!pip install fastt5"
      ]
    },
    {
      "cell_type": "markdown",
      "metadata": {},
      "source": [
        "### Import libraries"
      ]
    },
    {
      "cell_type": "code",
      "execution_count": null,
      "metadata": {
        "id": "dvfSgewYFVnw"
      },
      "outputs": [],
      "source": [
        "import pandas as pd\n",
        "from sklearn.model_selection import train_test_split\n",
        "from simplet5 import SimpleT5\n",
        "from fastT5 import generate_onnx_representation, quantize"
      ]
    },
    {
      "cell_type": "markdown",
      "metadata": {},
      "source": [
        "### Load dataset"
      ]
    },
    {
      "cell_type": "code",
      "execution_count": null,
      "metadata": {
        "id": "QGNZpeTFFdCd"
      },
      "outputs": [],
      "source": [
        "from google.colab import drive\n",
        "drive.mount('/content/gdrive')"
      ]
    },
    {
      "cell_type": "code",
      "execution_count": null,
      "metadata": {
        "id": "NCre4zazFe_W"
      },
      "outputs": [],
      "source": [
        "# df = pd.read_csv('gdrive/MyDrive/mcq-gen/SQuAD-processed.csv')\n",
        "df = pd.read_csv('gdrive/MyDrive/mcq-gen/SciQ-processed.csv')"
      ]
    },
    {
      "cell_type": "markdown",
      "metadata": {},
      "source": [
        "### Check"
      ]
    },
    {
      "cell_type": "code",
      "execution_count": null,
      "metadata": {
        "id": "vvUlIVeMF99l"
      },
      "outputs": [],
      "source": [
        "df.head()"
      ]
    },
    {
      "cell_type": "markdown",
      "metadata": {},
      "source": [
        "### Split dataset"
      ]
    },
    {
      "cell_type": "code",
      "execution_count": null,
      "metadata": {
        "id": "xves74CfGAaU"
      },
      "outputs": [],
      "source": [
        "train_df, test_df = train_test_split(df, test_size=0.2)\n",
        "train_df.shape, test_df.shape"
      ]
    },
    {
      "cell_type": "markdown",
      "metadata": {},
      "source": [
        "### Train model\n",
        "\n",
        "- T5-base model is enough for our purpose.\n",
        "- SimpleT5 uses Adam optimizer with 0.0001 lr."
      ]
    },
    {
      "cell_type": "code",
      "execution_count": null,
      "metadata": {
        "id": "Z9jSx5cqGK-l"
      },
      "outputs": [],
      "source": [
        "model = SimpleT5()\n",
        "model.from_pretrained(model_type='t5', model_name='t5-base')"
      ]
    },
    {
      "cell_type": "code",
      "execution_count": null,
      "metadata": {
        "id": "8VAzf5uFIVq3"
      },
      "outputs": [],
      "source": [
        "model.train(train_df=train_df, eval_df=test_df, source_max_token_len=512, target_max_token_len=96, batch_size=8, max_epochs=3, use_gpu=True)"
      ]
    },
    {
      "cell_type": "markdown",
      "metadata": {},
      "source": [
        "### Load model\n",
        "\n",
        "- With given config SimpleT5 will save model in each epoch with training and val loss as filename.\n",
        "- Load model with less loss."
      ]
    },
    {
      "cell_type": "code",
      "execution_count": null,
      "metadata": {
        "id": "SgSqRcWFMs2J"
      },
      "outputs": [],
      "source": [
        "model_dir = 'outputs/OUTPUT_FILE_NAME'"
      ]
    },
    {
      "cell_type": "code",
      "execution_count": null,
      "metadata": {
        "id": "9Tx7m6aKIiAH"
      },
      "outputs": [],
      "source": [
        "model.load_model(model_type='t5', model_dir=model_dir, use_gpu=True)"
      ]
    },
    {
      "cell_type": "markdown",
      "metadata": {},
      "source": [
        "### Test"
      ]
    },
    {
      "cell_type": "code",
      "execution_count": null,
      "metadata": {
        "id": "la6UGvmgLPsN"
      },
      "outputs": [],
      "source": [
        "text = \"context: President Donald Trump said and predicted that some states would reopen this month. answer: Donald Trump\"\n",
        "model.predict(source_text=text, num_return_sequences=3, num_beams=5, max_length=72)"
      ]
    },
    {
      "cell_type": "markdown",
      "metadata": {},
      "source": [
        "### Convert to ONNX"
      ]
    },
    {
      "cell_type": "code",
      "execution_count": null,
      "metadata": {
        "id": "gUsMWlt2M2Sy"
      },
      "outputs": [],
      "source": [
        "onnx_model = generate_onnx_representation(pretrained_version=model_dir, input_sequence_length=512)"
      ]
    },
    {
      "cell_type": "markdown",
      "metadata": {},
      "source": [
        "### Quantize model"
      ]
    },
    {
      "cell_type": "code",
      "execution_count": null,
      "metadata": {
        "id": "YYM3j1YjPv9P"
      },
      "outputs": [],
      "source": [
        "quantized_model = quantize(onnx_model)"
      ]
    }
  ],
  "metadata": {
    "colab": {
      "name": "train.ipynb",
      "provenance": []
    },
    "gpuClass": "standard",
    "kernelspec": {
      "display_name": "Python 3",
      "name": "python3"
    },
    "language_info": {
      "name": "python"
    }
  },
  "nbformat": 4,
  "nbformat_minor": 0
}
