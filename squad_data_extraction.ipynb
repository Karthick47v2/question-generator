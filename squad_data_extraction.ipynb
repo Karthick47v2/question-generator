{
  "cells": [
    {
      "cell_type": "markdown",
      "metadata": {},
      "source": [
        "### Download dataset"
      ]
    },
    {
      "cell_type": "code",
      "execution_count": null,
      "metadata": {
        "id": "fB30UaQqzMvZ"
      },
      "outputs": [],
      "source": [
        "# SQuAD dataset\n",
        "!wget https://data.deepai.org/squad1.1.zip\n",
        "!unzip squad1.1.zip"
      ]
    },
    {
      "cell_type": "markdown",
      "metadata": {},
      "source": [
        "### Import libraries"
      ]
    },
    {
      "cell_type": "code",
      "execution_count": null,
      "metadata": {
        "id": "dnArgwcUzUso"
      },
      "outputs": [],
      "source": [
        "import json\n",
        "import pandas as pd"
      ]
    },
    {
      "cell_type": "markdown",
      "metadata": {},
      "source": [
        "### Extract data from json"
      ]
    },
    {
      "cell_type": "code",
      "execution_count": null,
      "metadata": {
        "id": "K7AYMkjpzg71"
      },
      "outputs": [],
      "source": [
        "data = {}\n",
        "\n",
        "with open('train-v1.1.json') as file:\n",
        "  data = json.load(file)['data']"
      ]
    },
    {
      "cell_type": "code",
      "execution_count": null,
      "metadata": {
        "id": "aynz6eeqCErN"
      },
      "outputs": [],
      "source": [
        "source_text = []\n",
        "target_text = []"
      ]
    },
    {
      "cell_type": "code",
      "execution_count": null,
      "metadata": {
        "id": "yDIS5Yb2-Sp9"
      },
      "outputs": [],
      "source": [
        "for topic in data:\n",
        "  for dict_set in topic['paragraphs']:\n",
        "    for qna_set in dict_set['qas']:\n",
        "      source_text.append(f\"context: {dict_set['context']} answer: {qna_set['answers'][0]['text']}\")\n",
        "      target_text.append(qna_set['question'])"
      ]
    },
    {
      "cell_type": "code",
      "execution_count": null,
      "metadata": {
        "id": "SCoVslog_T6l"
      },
      "outputs": [],
      "source": [
        "df = pd.DataFrame({'source_text': source_text, 'target_text': target_text})"
      ]
    },
    {
      "cell_type": "markdown",
      "metadata": {},
      "source": [
        "### Review"
      ]
    },
    {
      "cell_type": "code",
      "execution_count": null,
      "metadata": {
        "id": "g_4zfHZx2O57"
      },
      "outputs": [],
      "source": [
        "df.head()"
      ]
    },
    {
      "cell_type": "markdown",
      "metadata": {},
      "source": [
        "### Export as *.csv and upload to GDrive"
      ]
    },
    {
      "cell_type": "code",
      "execution_count": null,
      "metadata": {
        "id": "F7g2Ab4aC9HT"
      },
      "outputs": [],
      "source": [
        "from google.colab import drive\n",
        "drive.mount('/content/gdrive')"
      ]
    },
    {
      "cell_type": "code",
      "execution_count": null,
      "metadata": {
        "colab": {
          "base_uri": "https://localhost:8080/"
        },
        "id": "bMnlCw4DEXMA",
        "outputId": "4f16fdf4-e3e6-4f55-92f3-8a3e0f2e41d7"
      },
      "outputs": [],
      "source": [
        "df.to_csv('SQuAD-processed.csv', index=False)"
      ]
    },
    {
      "cell_type": "code",
      "execution_count": null,
      "metadata": {
        "id": "as1rlQ0wDjZ3"
      },
      "outputs": [],
      "source": [
        "!mv SQuAD-processed.csv gdrive/MyDrive/mcq-gen"
      ]
    }
  ],
  "metadata": {
    "colab": {
      "name": "squad-data-extraction.ipynb",
      "provenance": []
    },
    "kernelspec": {
      "display_name": "Python 3",
      "name": "python3"
    },
    "language_info": {
      "name": "python"
    }
  },
  "nbformat": 4,
  "nbformat_minor": 0
}
